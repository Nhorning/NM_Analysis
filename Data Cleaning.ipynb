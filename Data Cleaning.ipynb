{
 "cells": [
  {
   "cell_type": "code",
   "execution_count": 1,
   "metadata": {},
   "outputs": [
    {
     "name": "stdout",
     "output_type": "stream",
     "text": [
      "Data\t\t     README.md\r\n",
      "Data Cleaning.ipynb  SpringBoard Capstone Project 1 Proposal.pdf\r\n"
     ]
    }
   ],
   "source": [
    "! ls"
   ]
  },
  {
   "cell_type": "code",
   "execution_count": 2,
   "metadata": {
    "collapsed": true
   },
   "outputs": [],
   "source": [
    "! cd Data/"
   ]
  },
  {
   "cell_type": "code",
   "execution_count": 3,
   "metadata": {},
   "outputs": [
    {
     "name": "stdout",
     "output_type": "stream",
     "text": [
      "Data\t\t\tREADME.md\r\n",
      "Data Cleaning.ipynb\tSpringBoard Capstone Project 1 Proposal.pdf\r\n",
      "Datacleaning_steps.txt\r\n"
     ]
    }
   ],
   "source": [
    "!ls"
   ]
  },
  {
   "cell_type": "code",
   "execution_count": 4,
   "metadata": {},
   "outputs": [
    {
     "name": "stdout",
     "output_type": "stream",
     "text": [
      "Data\t\t\tREADME.md\r\n",
      "Data Cleaning.ipynb\tSpringBoard Capstone Project 1 Proposal.pdf\r\n",
      "Datacleaning_steps.txt\r\n"
     ]
    }
   ],
   "source": [
    "! cd Data\n",
    "!ls"
   ]
  },
  {
   "cell_type": "code",
   "execution_count": 5,
   "metadata": {},
   "outputs": [
    {
     "name": "stdout",
     "output_type": "stream",
     "text": [
      "ls: cannot access '/Data': No such file or directory\r\n"
     ]
    }
   ],
   "source": [
    "! ls /Data"
   ]
  },
  {
   "cell_type": "code",
   "execution_count": 6,
   "metadata": {},
   "outputs": [
    {
     "name": "stdout",
     "output_type": "stream",
     "text": [
      "1519759656_39328483.csv  2017 PMP Data Final No Duplicates.xlsx\r\n"
     ]
    }
   ],
   "source": [
    "! ls Data"
   ]
  },
  {
   "cell_type": "code",
   "execution_count": 14,
   "metadata": {},
   "outputs": [],
   "source": [
    "import pandas as pd\n",
    "\n",
    "#Assign filenames\n",
    "fullfile = 'Data/NM_2016_17export.csv'\n",
    "ndfile = 'Data/2017 PMP Data Final No Duplicates.xlsx'\n",
    "\n",
    "#import dataframes\n",
    "fulldf = pd.read_csv(fullfile)\n",
    "ND17df = pd.read_excel(ndfile)"
   ]
  },
  {
   "cell_type": "code",
   "execution_count": null,
   "metadata": {
    "collapsed": true
   },
   "outputs": [],
   "source": []
  }
 ],
 "metadata": {
  "kernelspec": {
   "display_name": "Python 3",
   "language": "python",
   "name": "python3"
  },
  "language_info": {
   "codemirror_mode": {
    "name": "ipython",
    "version": 3
   },
   "file_extension": ".py",
   "mimetype": "text/x-python",
   "name": "python",
   "nbconvert_exporter": "python",
   "pygments_lexer": "ipython3",
   "version": "3.6.3"
  }
 },
 "nbformat": 4,
 "nbformat_minor": 2
}
